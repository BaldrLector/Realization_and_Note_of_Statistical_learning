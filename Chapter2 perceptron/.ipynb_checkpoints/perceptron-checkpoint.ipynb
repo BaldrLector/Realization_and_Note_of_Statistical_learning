{
 "cells": [
  {
   "cell_type": "code",
   "execution_count": 1,
   "metadata": {},
   "outputs": [],
   "source": [
    "import numpy as np\n",
    "import matplotlib.pyplot as plt\n",
    "from sklearn.datasets import make_moons\n",
    "\n",
    "plt.rcParams['font.sans-serif'] = ['SimHei']  # 用来正常显示中文标签\n",
    "plt.rcParams['axes.unicode_minus'] = False  # 用来正常显示负号\n",
    "%matplotlib inline"
   ]
  },
  {
   "cell_type": "code",
   "execution_count": 2,
   "metadata": {},
   "outputs": [],
   "source": [
    "train_data1 = [[2, 3, 1], [2, 5, 1], [3, 9, 1], [3, 5, 1], [4, 6, 1]]\n",
    "train_data2 = [[2, 1, -1], [4, 1, -1], [6, 3, -1], [7, 4, -1], [5, 1, -1]]\n",
    "train_datas = train_data1 + train_data2\n",
    "label= [train_datas[i][2] for i in range(len(train_datas))]\n",
    "x=np.array(train_datas)[:,0:2]"
   ]
  },
  {
   "cell_type": "code",
   "execution_count": 3,
   "metadata": {},
   "outputs": [],
   "source": [
    "def sign(v):\n",
    "    if v >= 0:\n",
    "        return 1\n",
    "    else:\n",
    "        return -1"
   ]
  },
  {
   "cell_type": "markdown",
   "metadata": {},
   "source": [
    "# 原始形式求解"
   ]
  },
  {
   "cell_type": "markdown",
   "metadata": {},
   "source": [
    "![](1.png)"
   ]
  },
  {
   "cell_type": "code",
   "execution_count": 6,
   "metadata": {},
   "outputs": [],
   "source": [
    "w = np.zeros((2)) # dimension here is 2\n",
    "b = 0\n",
    "eta = 1               # given eta here is 1\n",
    "epoch = 1000    # max iteration\n",
    "\n",
    "isAllTrue = True   # check if all data is correctlly classifed\n",
    "isFirst = True       \n",
    "\n",
    "while (isFirst or not isAllTrue):\n",
    "    isFirst = False\n",
    "    isAllTrue=True\n",
    "    for i in range(len(x)):\n",
    "        if label[i] * (w.T.dot(x[i])+b) <= 0:\n",
    "            w = w + eta * label[i] * x[i]\n",
    "            b = b + eta * label[i]\n",
    "            isAllTrue=False\n"
   ]
  },
  {
   "cell_type": "code",
   "execution_count": 12,
   "metadata": {},
   "outputs": [
    {
     "data": {
      "image/png": "[encoded data removed]",
      "text/plain": [
       "<matplotlib.figure.Figure at 0x2783079fcc0>"
      ]
     },
     "metadata": {},
     "output_type": "display_data"
    }
   ],
   "source": [
    "# 我们已经训练好了 w 和 b，这里我们可视化，观察我们的分类结果\n",
    "\n",
    "plt.figure()\n",
    "for i in range(len(x)):\n",
    "    if label[i]==1:plt.scatter(x[i,0], x[i,1], s=50)\n",
    "    else:plt.scatter(x[i,0],x[i,1], marker='x', s=50)\n",
    "\n",
    "x1 = np.linspace(0, 8, 100)\n",
    "x2 = (-w[0] * x1 - b) / w[1]\n",
    "plt.plot(x1, x2, color='r', label='y1 data')\n",
    "\n",
    "plt.show()"
   ]
  },
  {
   "cell_type": "code",
   "execution_count": 14,
   "metadata": {},
   "outputs": [
    {
     "data": {
      "text/plain": [
       "[0.69999999999999951,\n",
       " 2.0999999999999988,\n",
       " 4.1999999999999993,\n",
       " 1.399999999999999,\n",
       " 1.399999999999999,\n",
       " 0.70000000000000029,\n",
       " 2.1000000000000005,\n",
       " 2.1000000000000005,\n",
       " 2.100000000000001,\n",
       " 2.8000000000000007]"
      ]
     },
     "execution_count": 14,
     "metadata": {},
     "output_type": "execute_result"
    }
   ],
   "source": [
    "# check result \n",
    "[label[i] * (w.T.dot(x[i])+b) for i in range(len(x))]  #全部是正值，所以全部分类正确"
   ]
  },
  {
   "cell_type": "markdown",
   "metadata": {},
   "source": [
    "# 对偶形式求解"
   ]
  },
  {
   "cell_type": "markdown",
   "metadata": {},
   "source": [
    "![](./2.png)"
   ]
  },
  {
   "cell_type": "code",
   "execution_count": 9,
   "metadata": {},
   "outputs": [],
   "source": [
    "\n",
    "def perceptron_duiou(train_num, train_datas, lr):\n",
    "    w = 0.0\n",
    "    b = 0\n",
    "    datas_len = len(train_datas)\n",
    "    alpha = [0 for i in range(datas_len)]\n",
    "    train_array = np.array(train_datas)\n",
    "    gram = np.matmul(train_array[:, 0:-1], train_array[:, 0:-1].T)\n",
    "    for idx in range(train_num):\n",
    "        tmp = 0\n",
    "        i = np.random.randint(0, datas_len - 1)\n",
    "        yi = train_array[i, -1]\n",
    "        for j in range(datas_len):\n",
    "            tmp += alpha[j] * train_array[j, -1] * gram[i, j]\n",
    "        tmp += b\n",
    "        if (yi * tmp <= 0):\n",
    "            alpha[i] = alpha[i] + lr\n",
    "            b += lr * yi\n",
    "    for i in range(datas_len):\n",
    "        w += alpha[i] * train_array[i, 0:-1] * train_array[i, -1]\n",
    "    return w, b, alpha, gram"
   ]
  },
  {
   "cell_type": "code",
   "execution_count": 10,
   "metadata": {},
   "outputs": [],
   "source": [
    "def plot(train_datas, w, b):\n",
    "    plt.figure('perceptron')\n",
    "    x1 = np.linspace(0, 8, 100)\n",
    "    x2 = (-w[0] * x1 - b) / w[1]\n",
    "    plt.plot(x1, x2, color='r', label='y1 data')\n",
    "    datas_len = len(train_datas)\n",
    "    for i in range(datas_len):\n",
    "        if (train_datas[i][2] == 1):\n",
    "            plt.scatter(train_datas[i][0], train_datas[i][1], s=50)\n",
    "        else:\n",
    "            plt.scatter(train_datas[i][0], train_datas[i][1], marker='x', s=50)\n",
    "    plt.show()\n"
   ]
  },
  {
   "cell_type": "code",
   "execution_count": 11,
   "metadata": {},
   "outputs": [
    {
     "data": {
      "image/png": "[encoded data removed]",
      "text/plain": [
       "<matplotlib.figure.Figure at 0x27830b092b0>"
      ]
     },
     "metadata": {},
     "output_type": "display_data"
    }
   ],
   "source": [
    "train_data1 = [[2, 3, 1], [2, 5, 1], [3, 9, 1], [3, 5, 1], [4, 6, 1]]\n",
    "train_data2 = [[2, 1, -1], [4, 1, -1], [6, 3, -1], [7, 4, -1], [5, 1, -1]]\n",
    "train_datas = train_data1 + train_data2\n",
    "w, b, alpha, gram = perceptron_duiou(train_num=300, train_datas=train_datas, lr=0.1)\n",
    "plot(train_datas, w, b)"
   ]
  }
 ],
 "metadata": {
  "kernelspec": {
   "display_name": "Python 3",
   "language": "python",
   "name": "python3"
  },
  "language_info": {
   "codemirror_mode": {
    "name": "ipython",
    "version": 3
   },
   "file_extension": ".py",
   "mimetype": "text/x-python",
   "name": "python",
   "nbconvert_exporter": "python",
   "pygments_lexer": "ipython3",
   "version": "3.6.2"
  }
 },
 "nbformat": 4,
 "nbformat_minor": 1
}
