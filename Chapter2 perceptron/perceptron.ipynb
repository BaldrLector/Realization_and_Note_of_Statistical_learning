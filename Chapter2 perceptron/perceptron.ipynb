{
 "cells": [
  {
   "cell_type": "code",
   "execution_count": 134,
   "metadata": {
    "collapsed": true
   },
   "outputs": [],
   "source": [
    "import numpy as np\n",
    "import matplotlib.pyplot as plt\n",
    "from sklearn.datasets import make_moons\n",
    "\n",
    "plt.rcParams['font.sans-serif'] = ['SimHei']  # 用来正常显示中文标签\n",
    "plt.rcParams['axes.unicode_minus'] = False  # 用来正常显示负号\n",
    "%matplotlib inline"
   ]
  },
  {
   "cell_type": "code",
   "execution_count": 181,
   "metadata": {},
   "outputs": [],
   "source": [
    "train_data1 = [[2, 3, 1], [2, 5, 1], [3, 9, 1], [3, 5, 1], [4, 6, 1]]\n",
    "train_data2 = [[2, 1, -1], [4, 1, -1], [6, 3, -1], [7, 4, -1], [5, 1, -1]]\n",
    "train_datas = train_data1 + train_data2\n",
    "label= [train_datas[i][2] for i in range(len(train_datas))]\n",
    "x=np.array(train_datas)[:,0:2]"
   ]
  },
  {
   "cell_type": "code",
   "execution_count": 182,
   "metadata": {},
   "outputs": [],
   "source": [
    "def sign(v):\n",
    "    if v >= 0:\n",
    "        return 1\n",
    "    else:\n",
    "        return -1"
   ]
  },
  {
   "cell_type": "markdown",
   "metadata": {},
   "source": [
    "# 原始形式求解"
   ]
  },
  {
   "cell_type": "code",
   "execution_count": 264,
   "metadata": {},
   "outputs": [],
   "source": [
    ""
   ]
  },
  {
   "cell_type": "code",
   "execution_count": 264,
   "metadata": {},
   "outputs": [],
   "source": [
    "[label[i] * (w.T.dot(x[i])+b) for i in range(len(x))]"
   ]
  },
  {
   "cell_type": "code",
   "execution_count": 255,
   "metadata": {},
   "outputs": [],
   "source": [
    "w = np.zeros((2))\n",
    "b = 0\n",
    "eta = 1\n",
    "epoch = 1000\n",
    "\n",
    "isAllTrue = True\n",
    "isFirst = True\n",
    "\n",
    "while (isFirst or not isAllTrue):\n",
    "    isFirst = False\n",
    "    isAllTrue=True\n",
    "    for i in range(len(x)):\n",
    "        if label[i] * (w.T.dot(x[i])+b) <= 0:\n",
    "            w = w + eta * label[i] * x[i]\n",
    "            b = b + eta * label[i]\n",
    "            isAllTrue=False\n"
   ]
  },
  {
   "cell_type": "code",
   "execution_count": 263,
   "metadata": {},
   "outputs": [
    {
     "data": {
      "image/png": "[encoded data removed]",
      "text/plain": [
       "<matplotlib.figure.Figure at 0x1fd1a2d6518>"
      ]
     },
     "metadata": {},
     "output_type": "display_data"
    }
   ],
   "source": [
    "plt.figure()\n",
    "for i in range(len(x)):\n",
    "    if label[i]==1:plt.scatter(x[i,0], x[i,1], s=50)\n",
    "    else:plt.scatter(x[i,0],x[i,1], marker='x', s=50)\n",
    "\n",
    "x1 = np.linspace(0, 8, 100)\n",
    "x2 = (-w[0] * x1 - b) / w[1]\n",
    "plt.plot(x1, x2, color='r', label='y1 data')\n",
    "\n",
    "plt.show()"
   ]
  },
  {
   "cell_type": "code",
   "execution_count": 265,
   "metadata": {},
   "outputs": [
    {
     "data": {
      "text/plain": [
       "[6.0, 16.0, 32.0, 12.0, 13.0, 4.0, 12.0, 10.0, 9.0, 16.0]"
      ]
     },
     "execution_count": 265,
     "metadata": {},
     "output_type": "execute_result"
    }
   ],
   "source": [
    "# check result \n",
    "[label[i] * (w.T.dot(x[i])+b) for i in range(len(x))]  # all classifer correctlly"
   ]
  },
  {
   "cell_type": "code",
   "execution_count": 264,
   "metadata": {},
   "outputs": [],
   "source": [
    ""
   ]
  },
  {
   "cell_type": "code",
   "execution_count": 264,
   "metadata": {},
   "outputs": [],
   "source": [
    ""
   ]
  },
  {
   "cell_type": "markdown",
   "metadata": {},
   "source": [
    "# 对偶形式求解"
   ]
  },
  {
   "cell_type": "code",
   "execution_count": 243,
   "metadata": {},
   "outputs": [],
   "source": [
    "\n",
    "def perceptron_duiou(train_num, train_datas, lr):\n",
    "    w = 0.0\n",
    "    b = 0\n",
    "    datas_len = len(train_datas)\n",
    "    alpha = [0 for i in range(datas_len)]\n",
    "    train_array = np.array(train_datas)\n",
    "    gram = np.matmul(train_array[:, 0:-1], train_array[:, 0:-1].T)\n",
    "    for idx in range(train_num):\n",
    "        tmp = 0\n",
    "        i = np.random.randint(0, datas_len - 1)\n",
    "        yi = train_array[i, -1]\n",
    "        for j in range(datas_len):\n",
    "            tmp += alpha[j] * train_array[j, -1] * gram[i, j]\n",
    "        tmp += b\n",
    "        if (yi * tmp <= 0):\n",
    "            alpha[i] = alpha[i] + lr\n",
    "            b += lr * yi\n",
    "    for i in range(datas_len):\n",
    "        w += alpha[i] * train_array[i, 0:-1] * train_array[i, -1]\n",
    "    return w, b, alpha, gram"
   ]
  },
  {
   "cell_type": "code",
   "execution_count": 244,
   "metadata": {},
   "outputs": [],
   "source": [
    "def plot(train_datas, w, b):\n",
    "    plt.figure('perceptron')\n",
    "    x1 = np.linspace(0, 8, 100)\n",
    "    x2 = (-w[0] * x1 - b) / w[1]\n",
    "    plt.plot(x1, x2, color='r', label='y1 data')\n",
    "    datas_len = len(train_datas)\n",
    "    for i in range(datas_len):\n",
    "        if (train_datas[i][2] == 1):\n",
    "            plt.scatter(train_datas[i][0], train_datas[i][1], s=50)\n",
    "        else:\n",
    "            plt.scatter(train_datas[i][0], train_datas[i][1], marker='x', s=50)\n",
    "    plt.show()\n"
   ]
  },
  {
   "cell_type": "code",
   "execution_count": 245,
   "metadata": {
    "collapsed": false
   },
   "outputs": [
    {
     "data": {
      "image/png": "[encoded data removed]",
      "text/plain": [
       "<matplotlib.figure.Figure at 0x1fd1a54f710>"
      ]
     },
     "metadata": {},
     "output_type": "display_data"
    }
   ],
   "source": [
    "train_data1 = [[2, 3, 1], [2, 5, 1], [3, 9, 1], [3, 5, 1], [4, 6, 1]]\n",
    "train_data2 = [[2, 1, -1], [4, 1, -1], [6, 3, -1], [7, 4, -1], [5, 1, -1]]\n",
    "train_datas = train_data1 + train_data2\n",
    "w, b, alpha, gram = perceptron_duiou(train_num=300, train_datas=train_datas, lr=0.1)\n",
    "plot(train_datas, w, b)"
   ]
  },
  {
   "cell_type": "code",
   "execution_count": 266,
   "metadata": {},
   "outputs": [],
   "source": [
    ""
   ]
  },
  {
   "cell_type": "code",
   "execution_count": 266,
   "metadata": {
    "collapsed": true
   },
   "outputs": [],
   "source": [
    ""
   ]
  },
  {
   "cell_type": "code",
   "execution_count": 73,
   "metadata": {},
   "outputs": [],
   "source": [
    ""
   ]
  },
  {
   "cell_type": "code",
   "execution_count": null,
   "metadata": {},
   "outputs": [],
   "source": []
  }
 ],
 "metadata": {
  "kernelspec": {
   "display_name": "Python 2",
   "language": "python",
   "name": "python2"
  },
  "language_info": {
   "codemirror_mode": {
    "name": "ipython",
    "version": 2
   },
   "file_extension": ".py",
   "mimetype": "text/x-python",
   "name": "python",
   "nbconvert_exporter": "python",
   "pygments_lexer": "ipython2",
   "version": "2.7.6"
  }
 },
 "nbformat": 4,
 "nbformat_minor": 0
}
