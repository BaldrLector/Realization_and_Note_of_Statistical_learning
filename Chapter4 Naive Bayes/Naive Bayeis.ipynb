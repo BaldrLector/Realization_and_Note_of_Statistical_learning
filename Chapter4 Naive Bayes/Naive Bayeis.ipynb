{
 "cells": [
  {
   "cell_type": "markdown",
   "metadata": {},
   "source": [
    "# Naive Bayeis\n",
    "![](./1.png)"
   ]
  },
  {
   "cell_type": "code",
   "execution_count": 36,
   "metadata": {},
   "outputs": [],
   "source": [
    "import numpy as np\n",
    "import matplotlib.pyplot as plt\n",
    "from collections import Counter\n",
    "\n",
    "%matplotlib inline"
   ]
  },
  {
   "cell_type": "markdown",
   "metadata": {},
   "source": [
    "# 这里为了方便对照，我们使用书上的数据\n",
    "![](./2.png)"
   ]
  },
  {
   "cell_type": "code",
   "execution_count": 68,
   "metadata": {},
   "outputs": [
    {
     "name": "stdout",
     "output_type": "stream",
     "text": [
      "X:\t [['1' 's' '-1']\n",
      " ['1' 'm' '-1']\n",
      " ['1' 'm' '1']\n",
      " ['1' 's' '1']\n",
      " ['1' 's' '-1']\n",
      " ['2' 's' '-1']\n",
      " ['2' 'm' '-1']\n",
      " ['2' 'm' '1']\n",
      " ['2' 'l' '1']\n",
      " ['2' 'l' '1']\n",
      " ['3' 'l' '1']\n",
      " ['3' 'm' '1']\n",
      " ['3' 'm' '1']\n",
      " ['3' 'l' '1']\n",
      " ['3' 'l' '-1']]\n",
      "Y:\t ['-1' '-1' '1' '1' '-1' '-1' '-1' '1' '1' '1' '1' '1' '1' '1' '-1']\n"
     ]
    }
   ],
   "source": [
    "# data\n",
    "X=[['1','s','-1'],\n",
    "   ['1','m','-1'],\n",
    "   ['1','m','1'],\n",
    "   ['1','s','1'],\n",
    "   ['1','s','-1'],\n",
    "   ['2','s','-1'],\n",
    "   ['2','m','-1'],\n",
    "   ['2','m','1'],\n",
    "   ['2','l','1'],\n",
    "   ['2','l','1'],\n",
    "   ['3','l','1'],\n",
    "   ['3','m','1'],\n",
    "   ['3','m','1'],\n",
    "   ['3','l','1'],\n",
    "   ['3','l','-1']]\n",
    "X=np.array(X)\n",
    "Y=X[:,-1]\n",
    "N=X.shape[0]\n",
    "print('X:\\t',X)\n",
    "print('Y:\\t',Y)"
   ]
  },
  {
   "cell_type": "code",
   "execution_count": 229,
   "metadata": {},
   "outputs": [],
   "source": [
    "py=Counter(Y)\n",
    "px=[{} for i in range(X.shape[1]-1)]"
   ]
  },
  {
   "cell_type": "code",
   "execution_count": 231,
   "metadata": {},
   "outputs": [],
   "source": [
    "for i in range(X.shape[1]-1):\n",
    "    for d in set(X[:,i]):\n",
    "        temp={}\n",
    "        for cls in set(Y):\n",
    "            temp[cls]=Counter(X[:,-1]==cls)[True]\n",
    "        px[i][d]=temp"
   ]
  },
  {
   "cell_type": "code",
   "execution_count": 233,
   "metadata": {},
   "outputs": [
    {
     "data": {
      "text/plain": [
       "[{'1': {'-1': 6, '1': 9}, '2': {'-1': 6, '1': 9}, '3': {'-1': 6, '1': 9}},\n",
       " {'l': {'-1': 6, '1': 9}, 'm': {'-1': 6, '1': 9}, 's': {'-1': 6, '1': 9}}]"
      ]
     },
     "execution_count": 233,
     "metadata": {},
     "output_type": "execute_result"
    }
   ],
   "source": [
    "# 查看一下统计结果，这里没有用array，而是用了Counter和dict\n",
    "px"
   ]
  },
  {
   "cell_type": "code",
   "execution_count": 262,
   "metadata": {},
   "outputs": [],
   "source": [
    "# 对题目给定的 x=（2，s），我们计算各类别的概率\n",
    "x_test=[2,'s']\n",
    "pred={}"
   ]
  },
  {
   "cell_type": "code",
   "execution_count": 264,
   "metadata": {},
   "outputs": [],
   "source": [
    "# 预测\n",
    "for i in set(Y):\n",
    "    pred[i]=1\n",
    "    for e in range(X.shape[1]-1):\n",
    "        pred[i]*=px[e][str(x_test[e])][str(i)]/N\n"
   ]
  },
  {
   "cell_type": "code",
   "execution_count": 275,
   "metadata": {},
   "outputs": [
    {
     "data": {
      "text/plain": [
       "[('1', 0.36), ('-1', 0.16000000000000003)]"
      ]
     },
     "execution_count": 275,
     "metadata": {},
     "output_type": "execute_result"
    }
   ],
   "source": [
    "# 对字典排序，按值排序\n",
    "sorted(pred.items(),reverse=True,key=lambda item:item[1])"
   ]
  },
  {
   "cell_type": "code",
   "execution_count": 276,
   "metadata": {},
   "outputs": [
    {
     "data": {
      "text/plain": [
       "{'-1': 0.16000000000000003, '1': 0.36}"
      ]
     },
     "execution_count": 276,
     "metadata": {},
     "output_type": "execute_result"
    }
   ],
   "source": [
    "pred"
   ]
  },
  {
   "cell_type": "markdown",
   "metadata": {},
   "source": [
    "# 贝叶斯估计（拉普拉斯平滑）\n",
    "![](./3.png)\n",
    "\n",
    "## 这里只要改一下前面的分子分母就可以了，不做赘述"
   ]
  },
  {
   "cell_type": "code",
   "execution_count": null,
   "metadata": {},
   "outputs": [],
   "source": []
  }
 ],
 "metadata": {
  "kernelspec": {
   "display_name": "Python 3",
   "language": "python",
   "name": "python3"
  },
  "language_info": {
   "codemirror_mode": {
    "name": "ipython",
    "version": 3
   },
   "file_extension": ".py",
   "mimetype": "text/x-python",
   "name": "python",
   "nbconvert_exporter": "python",
   "pygments_lexer": "ipython3",
   "version": "3.6.2"
  }
 },
 "nbformat": 4,
 "nbformat_minor": 2
}
