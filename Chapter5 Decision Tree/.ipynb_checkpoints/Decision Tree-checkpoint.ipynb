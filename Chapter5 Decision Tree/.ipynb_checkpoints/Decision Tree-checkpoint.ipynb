{
 "cells": [
  {
   "cell_type": "code",
   "execution_count": 5,
   "metadata": {},
   "outputs": [],
   "source": [
    "import numpy as np\n",
    "import matplotlib.pyplot as plt\n",
    "from sklearn.datasets import make_moons\n",
    "import math\n",
    "from collections import Counter\n",
    "\n",
    "plt.rcParams['font.sans-serif'] = ['SimHei']  # 用来正常显示中文标签\n",
    "plt.rcParams['axes.unicode_minus'] = False  # 用来正常显示负号\n",
    "%matplotlib inline"
   ]
  },
  {
   "cell_type": "code",
   "execution_count": null,
   "metadata": {},
   "outputs": [],
   "source": []
  },
  {
   "cell_type": "markdown",
   "metadata": {},
   "source": [
    "# 信息增益\n",
    "\n",
    "![](./1.png)\n",
    "![](./2.png)\n"
   ]
  },
  {
   "cell_type": "code",
   "execution_count": 2,
   "metadata": {
    "scrolled": true
   },
   "outputs": [
    {
     "name": "stdout",
     "output_type": "stream",
     "text": [
      "X:\t [['青年' '否' '否' '一般' '否']\n",
      " ['青年' '否' '否' '好' '否']\n",
      " ['青年' '是' '否' '好' '是']\n",
      " ['青年' '是' '是' '一般' '是']\n",
      " ['青年' '否' '否' '一般' '否']\n",
      " ['中年' '否' '否' '一般' '否']\n",
      " ['中年' '否' '否' '好' '否']\n",
      " ['中年' '是' '是' '好' '是']\n",
      " ['中年' '否' '是' '非常好' '是']\n",
      " ['中年' '否' '是' '非常好' '是']\n",
      " ['老年' '否' '是' '非常好' '是']\n",
      " ['老年' '否' '是' '好' '是']\n",
      " ['老年' '是' '否' '好' '是']\n",
      " ['老年' '是' '否' '非常好' '是']\n",
      " ['老年' '否' '否' '一般' '否']]\n",
      "Y:\t ['否' '否' '是' '是' '否' '否' '否' '是' '是' '是' '是' '是' '是' '是' '否']\n"
     ]
    }
   ],
   "source": [
    "# data : 年龄 有工作 有自己的房子 信贷情况 类别\n",
    "X = [\n",
    "    ['青年', '否', '否', '一般', '否'],\n",
    "    ['青年', '否', '否', '好', '否'],\n",
    "    ['青年', '是', '否', '好', '是'],\n",
    "    ['青年', '是', '是', '一般', '是'],\n",
    "    ['青年', '否', '否', '一般', '否'],\n",
    "\n",
    "    ['中年', '否', '否', '一般', '否'],\n",
    "    ['中年', '否', '否', '好', '否'],\n",
    "    ['中年', '是', '是', '好', '是'],\n",
    "    ['中年', '否', '是', '非常好', '是'],\n",
    "    ['中年', '否', '是', '非常好', '是'],\n",
    "\n",
    "    ['老年', '否', '是', '非常好', '是'],\n",
    "    ['老年', '否', '是', '好', '是'],\n",
    "    ['老年', '是', '否', '好', '是'],\n",
    "    ['老年', '是', '否', '非常好', '是'],\n",
    "    ['老年', '否', '否', '一般', '否'],\n",
    "]\n",
    "X = np.array(X)\n",
    "Y = X[:, -1]\n",
    "N = X.shape[0]\n",
    "print('X:\\t', X)\n",
    "print('Y:\\t', Y)"
   ]
  },
  {
   "cell_type": "code",
   "execution_count": 6,
   "metadata": {},
   "outputs": [],
   "source": [
    "\n",
    "def info_gain(dataset, label, feature):\n",
    "    # here fearture is index of dataset dimension\n",
    "    c = Counter(dataset[:, feature])\n",
    "    n = len(dataset)\n",
    "    hd = 0.0\n",
    "\n",
    "    # compute entropy H(D)\n",
    "    for i in Counter(label):\n",
    "        p = Counter(label)[i] / n\n",
    "        hd -= p * math.log2(p)\n",
    "\n",
    "    # compute H(D|A)\n",
    "    hda = 0.0\n",
    "    for i in Counter(dataset[:, feature]):\n",
    "        lebel_i = label[dataset[:, feature] == i]\n",
    "        hik = 0.0\n",
    "        for k in Counter(lebel_i):\n",
    "            pik = Counter(lebel_i)[k] / len(lebel_i)\n",
    "            hik += pik * math.log2(pik)\n",
    "        hda -= len(lebel_i) / len(label) * hik\n",
    "    return hd - hda"
   ]
  },
  {
   "cell_type": "code",
   "execution_count": 13,
   "metadata": {},
   "outputs": [
    {
     "name": "stdout",
     "output_type": "stream",
     "text": [
      "0.08300749985576883\n",
      "0.32365019815155627\n",
      "0.4199730940219749\n",
      "0.36298956253708536\n"
     ]
    }
   ],
   "source": [
    "#验证信息增益\n",
    "\n",
    "print(info_gain(X,Y,0))\n",
    "print(info_gain(X,Y,1))\n",
    "print(info_gain(X,Y,2))\n",
    "print(info_gain(X,Y,3))"
   ]
  },
  {
   "cell_type": "code",
   "execution_count": 14,
   "metadata": {},
   "outputs": [],
   "source": [
    "def info_gain_ratio(dataset, label, feature):\n",
    "    gda = info_gain(dataset, label, feature)\n",
    "\n",
    "    # Compute H_A(D)\n",
    "    had = 0.0\n",
    "    for i in Counter(dataset[:, feature]):\n",
    "        p = Counter(dataset[:, feature])[i] / len(dataset)\n",
    "        had -= p * math.log2(p)\n",
    "\n",
    "    return gda / had"
   ]
  },
  {
   "cell_type": "code",
   "execution_count": 16,
   "metadata": {},
   "outputs": [
    {
     "name": "stdout",
     "output_type": "stream",
     "text": [
      "0.05237190142858302\n",
      "0.3524465495205019\n",
      "0.4325380677663126\n",
      "0.23185388128724224\n"
     ]
    }
   ],
   "source": [
    "#验证信息增益率\n",
    "\n",
    "print(info_gain_ratio(X,Y,0))\n",
    "print(info_gain_ratio(X,Y,1))\n",
    "print(info_gain_ratio(X,Y,2))\n",
    "print(info_gain_ratio(X,Y,3))"
   ]
  },
  {
   "cell_type": "markdown",
   "metadata": {},
   "source": [
    "# ID3\n",
    "\n",
    "![](./3.png)\n",
    "\n",
    "# C4.5\n",
    "\n",
    "![](./4.png)"
   ]
  },
  {
   "cell_type": "code",
   "execution_count": null,
   "metadata": {},
   "outputs": [],
   "source": []
  },
  {
   "cell_type": "code",
   "execution_count": null,
   "metadata": {},
   "outputs": [],
   "source": []
  },
  {
   "cell_type": "code",
   "execution_count": null,
   "metadata": {},
   "outputs": [],
   "source": []
  },
  {
   "cell_type": "code",
   "execution_count": null,
   "metadata": {},
   "outputs": [],
   "source": []
  },
  {
   "cell_type": "code",
   "execution_count": null,
   "metadata": {},
   "outputs": [],
   "source": []
  },
  {
   "cell_type": "code",
   "execution_count": null,
   "metadata": {},
   "outputs": [],
   "source": []
  },
  {
   "cell_type": "code",
   "execution_count": null,
   "metadata": {},
   "outputs": [],
   "source": []
  },
  {
   "cell_type": "code",
   "execution_count": null,
   "metadata": {},
   "outputs": [],
   "source": []
  },
  {
   "cell_type": "markdown",
   "metadata": {},
   "source": [
    "# 剪枝\n",
    "![](./5.png)"
   ]
  },
  {
   "cell_type": "markdown",
   "metadata": {},
   "source": [
    "# CART\n",
    "\n",
    "![](./6.png)\n",
    "\n",
    "![](./7.png)\n",
    "\n",
    "![](./8.png)"
   ]
  },
  {
   "cell_type": "markdown",
   "metadata": {},
   "source": [
    "![](./9.png)"
   ]
  },
  {
   "cell_type": "code",
   "execution_count": 7,
   "metadata": {},
   "outputs": [],
   "source": [
    "X=[1,2,3,4,5,6,7,8,9,10]\n",
    "Y=[4.5,4.75,4.91,5.34,5.8,7.05,7.9,8.23,8.7,9.0]\n",
    "\n",
    "assert len(X)==len(Y)"
   ]
  },
  {
   "cell_type": "code",
   "execution_count": 8,
   "metadata": {},
   "outputs": [
    {
     "data": {
      "text/plain": [
       "[4.5, 4.75, 4.91, 5.34, 5.8, 7.05, 7.9, 8.23, 8.7, 9.0]"
      ]
     },
     "execution_count": 8,
     "metadata": {},
     "output_type": "execute_result"
    }
   ],
   "source": [
    "Y"
   ]
  },
  {
   "cell_type": "code",
   "execution_count": null,
   "metadata": {},
   "outputs": [],
   "source": []
  }
 ],
 "metadata": {
  "kernelspec": {
   "display_name": "Python 3",
   "language": "python",
   "name": "python3"
  },
  "language_info": {
   "codemirror_mode": {
    "name": "ipython",
    "version": 3
   },
   "file_extension": ".py",
   "mimetype": "text/x-python",
   "name": "python",
   "nbconvert_exporter": "python",
   "pygments_lexer": "ipython3",
   "version": "3.6.2"
  }
 },
 "nbformat": 4,
 "nbformat_minor": 2
}
