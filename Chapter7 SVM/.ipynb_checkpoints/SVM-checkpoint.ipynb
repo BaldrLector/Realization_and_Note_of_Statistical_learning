{
 "cells": [
  {
   "cell_type": "markdown",
   "metadata": {
    "collapsed": true
   },
   "source": [
    "# SVM\n",
    "\n",
    ">- 线性可分 or 线性不可分\n",
    ">\n",
    ">- 对偶问题\n",
    ">\n",
    ">- 间隔最大化\n",
    ">\n",
    ">- hinge loss\n",
    ">\n",
    ">- 核技巧\n",
    ">\n",
    ">"
   ]
  },
  {
   "cell_type": "markdown",
   "metadata": {},
   "source": [
    "> 注意这里为了不失一般性，我们用了CS231n的多分类SVM\n",
    ">[CS231n SVM](http://cs231n.github.io/linear-classify/)\n",
    ">$$Hinge\\ loss = \\max(0,s_j - s_{y_i}+\\Delta)$$\n",
    "这里的$\\Delta$常常取1"
   ]
  },
  {
   "cell_type": "code",
   "execution_count": 4,
   "metadata": {},
   "outputs": [],
   "source": [
    "import numpy as np \n",
    "import matplotlib as plt\n",
    "\n",
    "%matplotlib inline"
   ]
  },
  {
   "cell_type": "code",
   "execution_count": null,
   "metadata": {},
   "outputs": [],
   "source": []
  }
 ],
 "metadata": {
  "kernelspec": {
   "display_name": "Python 3",
   "language": "python",
   "name": "python3"
  },
  "language_info": {
   "codemirror_mode": {
    "name": "ipython",
    "version": 3
   },
   "file_extension": ".py",
   "mimetype": "text/x-python",
   "name": "python",
   "nbconvert_exporter": "python",
   "pygments_lexer": "ipython3",
   "version": "3.6.2"
  }
 },
 "nbformat": 4,
 "nbformat_minor": 1
}
