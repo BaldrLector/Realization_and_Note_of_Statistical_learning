{
 "cells": [
  {
   "cell_type": "code",
   "execution_count": 51,
   "metadata": {
    "collapsed": true
   },
   "outputs": [],
   "source": [
    "import numpy as np\n",
    "import matplotlib.pyplot as plt\n",
    "from matplotlib.colors import ListedColormap\n",
    "from sklearn import neighbors, datasets\n",
    "\n",
    "# import some data to play with\n",
    "iris = datasets.load_iris()\n",
    "X = iris.data[:, :2]\n",
    "y = iris.target\n",
    "# print(X.shape)               (150, 2)\n",
    "# print(y.shape)                (150,)\n",
    "\n",
    "\n",
    "k = 3\n",
    "d = X.shape[1]\n",
    "\n",
    "k_centrids = np.random.randn(k, d)  +np.mean(X, axis=0)\n",
    "k_new = k_centrids\n",
    "\n",
    "\n",
    "def getDistance(k_centrids, X):   # 欧式距离\n",
    "    num_k = k_centrids.shape[0]\n",
    "    num_x = X.shape[0]\n",
    "\n",
    "    dis = np.zeros((num_x, num_k))\n",
    "    dis += np.sum(X ** 2, axis=1).reshape(num_x, 1)\n",
    "    dis += np.sum(k_centrids ** 2, axis=1).reshape(1, num_k)\n",
    "    dis -= 2 * np.dot(X, k_centrids.T)\n",
    "    return dis\n"
   ]
  },
  {
   "cell_type": "code",
   "execution_count": 52,
   "metadata": {},
   "outputs": [],
   "source": [
    "isUpdate = True\n",
    "maxIter = 10000\n",
    "\n",
    "it = 0\n",
    "\n",
    "while isUpdate:\n",
    "\n",
    "    if (it > maxIter): break\n",
    "    it += 1\n",
    "    dis = getDistance(k_centrids, X)\n",
    "    close = np.argmin(dis, axis=1)\n",
    "    k_new = np.zeros_like(k_centrids)\n",
    "    for i in range(k):\n",
    "        k_new[i] = np.mean(X[close == i], axis=0)\n",
    "    if np.linalg.norm(k_new - k_centrids) <= 0.001:\n",
    "        isUpdate = True\n",
    "    else:\n",
    "        isUpdate = False\n",
    "    k_centrids = k_new\n"
   ]
  },
  {
   "cell_type": "code",
   "execution_count": 53,
   "metadata": {},
   "outputs": [
    {
     "data": {
      "text/plain": [
       "array([[ 6.54179104,  3.14925373],\n       [ 6.275     ,  2.375     ],\n       [ 5.22911392,  3.00759494]])"
      ]
     },
     "execution_count": 53,
     "metadata": {},
     "output_type": "execute_result"
    }
   ],
   "source": [
    "k_centrids"
   ]
  },
  {
   "cell_type": "code",
   "execution_count": 54,
   "metadata": {},
   "outputs": [],
   "source": [
    "dis = getDistance(k_centrids, X)\n",
    "close = np.argmin(dis, axis=1)"
   ]
  },
  {
   "cell_type": "code",
   "execution_count": 59,
   "metadata": {},
   "outputs": [],
   "source": [
    ""
   ]
  },
  {
   "cell_type": "code",
   "execution_count": 59,
   "metadata": {
    "collapsed": true
   },
   "outputs": [],
   "source": [
    ""
   ]
  },
  {
   "cell_type": "code",
   "execution_count": 41,
   "metadata": {
    "collapsed": true
   },
   "outputs": [],
   "source": [
    ""
   ]
  },
  {
   "cell_type": "code",
   "execution_count": null,
   "metadata": {},
   "outputs": [],
   "source": []
  }
 ],
 "metadata": {
  "kernelspec": {
   "display_name": "Python 2",
   "language": "python",
   "name": "python2"
  },
  "language_info": {
   "codemirror_mode": {
    "name": "ipython",
    "version": 2
   },
   "file_extension": ".py",
   "mimetype": "text/x-python",
   "name": "python",
   "nbconvert_exporter": "python",
   "pygments_lexer": "ipython2",
   "version": "2.7.6"
  }
 },
 "nbformat": 4,
 "nbformat_minor": 0
}
